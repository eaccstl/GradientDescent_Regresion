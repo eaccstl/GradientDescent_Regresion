{
 "cells": [
  {
   "cell_type": "code",
   "execution_count": 2,
   "metadata": {},
   "outputs": [
    {
     "ename": "ModuleNotFoundError",
     "evalue": "No module named 'data_helper'",
     "output_type": "error",
     "traceback": [
      "\u001b[1;31m---------------------------------------------------------------------------\u001b[0m",
      "\u001b[1;31mModuleNotFoundError\u001b[0m                       Traceback (most recent call last)",
      "\u001b[1;32m<ipython-input-2-ecc18b595112>\u001b[0m in \u001b[0;36m<module>\u001b[1;34m()\u001b[0m\n\u001b[0;32m      1\u001b[0m \u001b[1;32mimport\u001b[0m \u001b[0mnumpy\u001b[0m \u001b[1;32mas\u001b[0m \u001b[0mnp\u001b[0m\u001b[1;33m\u001b[0m\u001b[0m\n\u001b[0;32m      2\u001b[0m \u001b[1;32mimport\u001b[0m \u001b[0mpandas\u001b[0m \u001b[1;32mas\u001b[0m \u001b[0mpd\u001b[0m\u001b[1;33m\u001b[0m\u001b[0m\n\u001b[1;32m----> 3\u001b[1;33m \u001b[1;32mimport\u001b[0m \u001b[0mdata_helper\u001b[0m\u001b[1;33m\u001b[0m\u001b[0m\n\u001b[0m\u001b[0;32m      4\u001b[0m \u001b[1;32mimport\u001b[0m \u001b[0mmatplotlib\u001b[0m\u001b[1;33m.\u001b[0m\u001b[0mpyplot\u001b[0m \u001b[1;32mas\u001b[0m \u001b[0mplt\u001b[0m\u001b[1;33m\u001b[0m\u001b[0m\n\u001b[0;32m      5\u001b[0m \u001b[1;32mfrom\u001b[0m \u001b[0msklearn\u001b[0m \u001b[1;32mimport\u001b[0m \u001b[0mlinear_model\u001b[0m\u001b[1;33m\u001b[0m\u001b[0m\n",
      "\u001b[1;31mModuleNotFoundError\u001b[0m: No module named 'data_helper'"
     ]
    }
   ],
   "source": [
    "import numpy as np\n",
    "import pandas as pd\n",
    "import data_helper\n",
    "import matplotlib.pyplot as plt\n",
    "from sklearn import linear_model"
   ]
  },
  {
   "cell_type": "markdown",
   "metadata": {},
   "source": [
    "## Cargando los Datos\n",
    "\n",
    "### Descripcion de los Datos\n",
    "\n",
    "**Area_Lote**: Area del lote en metros cuadrados\n",
    "\n",
    "**Precio**: Precio total de la propiedad en Quetzales"
   ]
  },
  {
   "cell_type": "code",
   "execution_count": null,
   "metadata": {
    "collapsed": true
   },
   "outputs": [],
   "source": [
    "data = pd.read_csv('data.csv')"
   ]
  },
  {
   "cell_type": "code",
   "execution_count": null,
   "metadata": {
    "collapsed": true
   },
   "outputs": [],
   "source": [
    "data.head()"
   ]
  },
  {
   "cell_type": "markdown",
   "metadata": {},
   "source": [
    "# Modelos de Regresion Lineal\n",
    "\n",
    "### Modelo 1  \n",
    "$y = 2.41262565 x + 107748.55024667$"
   ]
  },
  {
   "cell_type": "code",
   "execution_count": null,
   "metadata": {
    "collapsed": true
   },
   "outputs": [],
   "source": [
    "reg = linear_model.LinearRegression()\n",
    "\n",
    "x = data['x'].values.reshape(-1, 1)\n",
    "y = data['y'].values\n",
    "\n",
    "reg.fit(x,y)\n",
    "\n",
    "y_hat = reg.predict(x)\n",
    "\n",
    "plt.scatter(x, y)\n",
    "plt.plot( x, y_hat, color='red', linewidth=3)\n",
    "plt.show()"
   ]
  },
  {
   "cell_type": "code",
   "execution_count": null,
   "metadata": {
    "collapsed": true
   },
   "outputs": [],
   "source": [
    "m = reg.coef_[0]\n",
    "b = reg.intercept_\n",
    "print(' y = {0} * x  {1}'.format(m, b))"
   ]
  },
  {
   "cell_type": "markdown",
   "metadata": {},
   "source": [
    "# Batch Gradient Descent\n"
   ]
  },
  {
   "cell_type": "code",
   "execution_count": null,
   "metadata": {
    "collapsed": true
   },
   "outputs": [],
   "source": [
    "x_df = pd.DataFrame(data.x)\n",
    "y_df = pd.DataFrame(data.y)"
   ]
  },
  {
   "cell_type": "markdown",
   "metadata": {},
   "source": [
    "### Costo\n",
    "$\\operatorname {Costo} ={\\frac {1}{2m}}\\sum _{i=1}^{m}(h_{\\theta}(x)-Y_{i})^{2}$"
   ]
  },
  {
   "cell_type": "code",
   "execution_count": null,
   "metadata": {
    "collapsed": true
   },
   "outputs": [],
   "source": [
    "def cost_function(x, y, theta_1, theta_0):\n",
    "\n",
    "    m = len(y)\n",
    "\n",
    "    '''\n",
    "    ### Implementa tu codigo aqui### \n",
    "    Obten los valores de la hipotesis, y calcula el costo utilizando la \n",
    "    formula que esta en la celda anterior.\n",
    "    Esta funcion sera utilizada despues paracalcular el costo en cada iteracion \n",
    "    del gradient descent.\n",
    "    '''\n",
    "    hipotesis = theta_1*x + theta_0\n",
    "    costo = np.sum((hipotesis-y)**2/(2*m))\n",
    "\n",
    "    return costo"
   ]
  },
  {
   "cell_type": "markdown",
   "metadata": {},
   "source": [
    "#### Probando la funcion de costo\n",
    "En esta celda vamos a probar la funcion de costo, para los valores de \n",
    "\n",
    "$\\theta_{0} =  -3.8957808783118537$\n",
    "\n",
    "$\\theta_{1} = 1.193033644189594$\n",
    "\n",
    "Debemos obtener el valor de 4.476971375975179"
   ]
  },
  {
   "cell_type": "code",
   "execution_count": null,
   "metadata": {
    "collapsed": true
   },
   "outputs": [],
   "source": [
    "theta_0 = -3.8957808783118537\n",
    "theta_1 = 1.193033644189594\n",
    "\n",
    "x = np.array(x_df).flatten()\n",
    "y = np.array(y_df).flatten()\n",
    "\n",
    "cost_function(x, y, theta_1, theta_0)"
   ]
  },
  {
   "cell_type": "markdown",
   "metadata": {},
   "source": [
    "### Batch Gradient Descent\n",
    "\n",
    "Derivada de la funcion de costo:\n",
    "$\\frac{\\partial}{\\partial \\theta} J(\\theta) = (h_{\\theta}(x)-y) \\cdot x_{j} $\n",
    "\n",
    "En cada repeticion:\n",
    "\n",
    "$\\theta_{0} := \\theta_{0} - \\alpha {\\frac {1}{m}} \\sum _{i=1}^{m} (h_{\\theta}(x)-y) $\n",
    "\n",
    "$\\theta_{1} := \\theta_{1} - \\alpha {\\frac {1}{m}} \\sum _{i=1}^{m} (h_{\\theta}(x)-y) \\cdot x_{j} $"
   ]
  },
  {
   "cell_type": "code",
   "execution_count": null,
   "metadata": {
    "collapsed": true
   },
   "outputs": [],
   "source": [
    "x = np.array(x_df).flatten()\n",
    "y = np.array(y_df).flatten()\n",
    "\n",
    "theta_0 = 0\n",
    "theta_1 = 0\n",
    "\n",
    "### ingresa el numero de iteracions y el valor de alpha ###\n",
    "iterations = 50\n",
    "alpha = 0.1\n",
    "\n",
    "\n",
    "m = len(y) \n",
    "\n",
    "\n",
    "for iteration in range(iterations):\n",
    "    h = theta_1*x  + theta_0\n",
    "    \n",
    "    '''\n",
    "    ## Implementa tu codigo aqui #####\n",
    "    Calcula los valores de theta0 y theta1\n",
    "    '''\n",
    "    theta_0_temp = theta_0-(alpha*(1/m))*np.sum(h-y)\n",
    "    theta_1_temp = theta_1-(alpha*(1/m))*(np.sum(h-y)*x)\n",
    "    \n",
    "    theta_0 = theta_0_temp\n",
    "    theta_1 = theta_1_temp\n",
    "    \n",
    "    '''\n",
    "    ## Implementa tu codigo aqui ####\n",
    "    Utiliza la funcion de costo para \n",
    "    '''\n",
    "    cost = cost_function(x,y,theta_1,theta_0)\n",
    "    \n",
    "    ## No modifiques nada desde este punto #####\n",
    "    if(iteration % 20 == 0):\n",
    "        print('Iteracion: ', iteration)\n",
    "        print('Costo: ', cost)\n",
    "        h = theta_1*x  + theta_0\n",
    "        plt.scatter(x, y)\n",
    "        plt.plot( x, h, color='red', linewidth=3)\n",
    "        plt.show()\n",
    "        \n",
    "        \n",
    "print(theta_0, theta_1) \n",
    "print(cost)"
   ]
  },
  {
   "cell_type": "markdown",
   "metadata": {},
   "source": [
    "# Gradient Descent con Scikit Learn"
   ]
  },
  {
   "cell_type": "code",
   "execution_count": null,
   "metadata": {
    "collapsed": true
   },
   "outputs": [],
   "source": [
    "import numpy as np\n",
    "from sklearn import linear_model\n",
    "\n",
    "\n",
    "x = data['x'].values.reshape(-1, 1)\n",
    "y = data['y'].values\n",
    "\n",
    "clf = linear_model.SGDRegressor(alpha=0.01, loss='squared_loss', max_iter=100)\n",
    "clf.fit(x, y)\n",
    "\n",
    "y_hat = clf.predict(x)\n",
    "\n",
    "plt.scatter(x, y)\n",
    "plt.plot( x, y_hat, color='red', linewidth=3)\n",
    "plt.show()"
   ]
  }
 ],
 "metadata": {
  "kernelspec": {
   "display_name": "Python 3",
   "language": "python",
   "name": "python3"
  }
 },
 "nbformat": 4,
 "nbformat_minor": 2
}
